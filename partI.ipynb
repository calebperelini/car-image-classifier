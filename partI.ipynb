{
 "cells": [
  {
   "cell_type": "code",
   "execution_count": 1,
   "id": "1261d70d",
   "metadata": {},
   "outputs": [],
   "source": [
    "\"\"\"\n",
    "Takes an mp4 file and outputs a series of images using OpenCV.\n",
    "\"\"\"\n",
    "import requests\n",
    "import cv2\n",
    "import database\n",
    "from io import BytesIO\n",
    "from PIL import Image\n",
    "from config import SECRET_KEY"
   ]
  },
  {
   "cell_type": "code",
   "execution_count": 2,
   "id": "1bf6ea00",
   "metadata": {},
   "outputs": [],
   "source": [
    "def capture_frames():\n",
    "\n",
    "    capture = cv2.VideoCapture(\"nz_cars_ALPR.mp4\")\n",
    "\n",
    "    frame_counter = 0\n",
    "    fps = 30\n",
    "    sample_rate = 1  # Set sample rate to 1fps.\n",
    "    images = []\n",
    "\n",
    "    while(capture.isOpened()):\n",
    "\n",
    "        ret, frame = capture.read()\n",
    "        if not ret:\n",
    "            break\n",
    "        if frame_counter % (fps // sample_rate) == 0:\n",
    "            # convert colour space from BGR to RGB.\n",
    "            RGB_frame = cv2.cvtColor(frame, cv2.COLOR_BGR2RGB)\n",
    "            images.append(Image.fromarray(RGB_frame))\n",
    "        frame_counter += 1\n",
    "\n",
    "    capture.release()\n",
    "    cv2.destroyAllWindows()\n",
    "    return images"
   ]
  },
  {
   "cell_type": "code",
   "execution_count": 3,
   "id": "e8ed92c4",
   "metadata": {},
   "outputs": [],
   "source": [
    "# process images into bytestream, send to API.\n",
    "def evaluate_images(image_array: list) -> list:\n",
    "    responses = []\n",
    "    for img in image_array:\n",
    "\n",
    "        byte_io = BytesIO()\n",
    "        img.save(byte_io, 'png')\n",
    "        byte_io.seek(0)  # seek start of I/O stream.\n",
    "        regions = ['nz']  # for greater region prediction.\n",
    "\n",
    "        response = requests.post(\n",
    "            'https://api.platerecognizer.com/v1/plate-reader/',\n",
    "            data=dict(regions=regions),\n",
    "            files=dict(upload=byte_io),\n",
    "            headers={'Authorization': 'Token ' + SECRET_KEY}) # replace with your own key in a config.py file.\n",
    "        responses.append(response.json())\n",
    "\n",
    "    return responses"
   ]
  },
  {
   "cell_type": "code",
   "execution_count": 4,
   "id": "8767c715",
   "metadata": {},
   "outputs": [],
   "source": [
    "def db_store(responses):\n",
    "    entries = []\n",
    "    for i in responses:\n",
    "        try:\n",
    "            entries.append([\n",
    "                (i['results'][0]['plate']),\n",
    "                (i['results'][0]['score']),\n",
    "                (i['processing_time'])\n",
    "            ])\n",
    "        except IndexError:\n",
    "            print(\"End of Entries\")\n",
    "            break\n",
    "    database.init_db()\n",
    "    database.add_many(entries)\n",
    "    database.show_all()"
   ]
  },
  {
   "cell_type": "code",
   "execution_count": null,
   "id": "74a6de31",
   "metadata": {},
   "outputs": [],
   "source": [
    "def main():\n",
    "    image_array = capture_frames()\n",
    "    results = evaluate_images(image_array)\n",
    "    db_store(results) # store results in db.\n",
    "\n",
    "\n",
    "if __name__ == \"__main__\":\n",
    "    main()"
   ]
  }
 ],
 "metadata": {
  "kernelspec": {
   "display_name": "Python 3 (ipykernel)",
   "language": "python",
   "name": "python3"
  },
  "language_info": {
   "codemirror_mode": {
    "name": "ipython",
    "version": 3
   },
   "file_extension": ".py",
   "mimetype": "text/x-python",
   "name": "python",
   "nbconvert_exporter": "python",
   "pygments_lexer": "ipython3",
   "version": "3.9.5"
  }
 },
 "nbformat": 4,
 "nbformat_minor": 5
}
