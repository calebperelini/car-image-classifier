{
 "cells": [
  {
   "cell_type": "code",
   "execution_count": 4,
   "id": "5a2b3d85",
   "metadata": {},
   "outputs": [],
   "source": [
    "import requests\n",
    "import re\n",
    "from bs4 import BeautifulSoup\n",
    "\n",
    "def carjam_colour(plate: str) -> str:\n",
    "    headers = {\n",
    "        'user-agent': 'Mozilla/5.0 (Windows NT 10.0; Win64; x64) AppleWebKit/537.36 (KHTML, like Gecko) Chrome/75.0.3770.142 Safari/537.36'\n",
    "    }\n",
    "    \n",
    "    r = requests.get('https://www.carjam.co.nz/car/?plate=' + plate.upper(), headers=headers).text\n",
    "    try:\n",
    "        soup = BeautifulSoup(r, 'lxml')\n",
    "        car_colour_html = str(soup.findAll('span', {'class': 'value'})[3])\n",
    "        car_colour = re.findall( r'>(.*?)<' , car_colour_html)[0]\n",
    "        if not car_colour: \n",
    "            raise ValueError\n",
    "        else:\n",
    "            return car_colour.lower()\n",
    "    except ValueError:\n",
    "        print('Plate: {}, no valid entry found'.format(plate))\n",
    "        return None"
   ]
  },
  {
   "cell_type": "code",
   "execution_count": null,
   "id": "f8692710",
   "metadata": {},
   "outputs": [],
   "source": [
    "import os\n",
    "import database\n",
    "import carjam_soup\n",
    "from model_eval import predict_image\n",
    "\n",
    "def get_filenames(path: str) -> list:\n",
    "    filenames_list = []\n",
    "    for filename in os.listdir(path):\n",
    "        file = os.path.join(path,filename)\n",
    "        if os.path.isfile(file):\n",
    "            filenames_list.append(file)\n",
    "    return filenames_list\n",
    "\n",
    "\n",
    "def get_predictions(filename_list: list) -> list:\n",
    "    predictions = []\n",
    "    for f in filename_list:\n",
    "        predictions.append(predict_image(f))\n",
    "    return predictions\n",
    "\n",
    "def compare_carjam(predictions: list) -> list:\n",
    "    db = database.retreive_all()\n",
    "    for i in range(len(predictions) - 1):\n",
    "        predictions[i]['plate_read'] = db[i]\n",
    "    \n",
    "    for entry in predictions[:len(predictions) - 1]:\n",
    "        entry_plate = entry['plate_read'][1]\n",
    "        carj_colour = carjam_soup.carjam_colour(entry_plate)\n",
    "        if carj_colour is not None:\n",
    "            if carj_colour == entry['colour']:\n",
    "                entry['Match'] = True\n",
    "            else:\n",
    "                entry['Match'] = False\n",
    "    \n",
    "    return predictions\n",
    "\n",
    "def display(predictions: list):\n",
    "    predictions = predictions[:-1]\n",
    "    for pr in predictions:\n",
    "        print(\"Plate Read: {}, Predicted Colour: {}, Match: {}\".format(\n",
    "            pr['plate_read'][1],\n",
    "            pr['colour'], \n",
    "            pr['Match'])\n",
    "            )"
   ]
  },
  {
   "cell_type": "code",
   "execution_count": 6,
   "id": "0181b3ef",
   "metadata": {},
   "outputs": [
    {
     "name": "stdout",
     "output_type": "stream",
     "text": [
      "Plate Read: gwt215, Predicted Colour: white, Match: True\n",
      "Plate Read: gwt215, Predicted Colour: white, Match: True\n",
      "Plate Read: gwt215, Predicted Colour: beige, Match: False\n",
      "Plate Read: hrz326, Predicted Colour: blue, Match: False\n",
      "Plate Read: hrz326, Predicted Colour: brown, Match: False\n",
      "Plate Read: jsg421, Predicted Colour: brown, Match: False\n",
      "Plate Read: jsg421, Predicted Colour: blue, Match: False\n",
      "Plate Read: jsg421, Predicted Colour: grey, Match: True\n",
      "Plate Read: w0000f, Predicted Colour: grey, Match: False\n",
      "Plate Read: w0000f, Predicted Colour: blue, Match: False\n",
      "Plate Read: lbk263, Predicted Colour: white, Match: True\n",
      "Plate Read: lbk263, Predicted Colour: beige, Match: False\n",
      "Plate Read: 69syc, Predicted Colour: white, Match: False\n"
     ]
    }
   ],
   "source": [
    "def main():\n",
    "    filenames = get_filenames('images')\n",
    "    predictions = compare_carjam(get_predictions(filenames))\n",
    "    display(predictions)\n",
    "\n",
    "   \n",
    "if __name__ == '__main__':\n",
    "    main()"
   ]
  }
 ],
 "metadata": {
  "kernelspec": {
   "display_name": "Python 3 (ipykernel)",
   "language": "python",
   "name": "python3"
  },
  "language_info": {
   "codemirror_mode": {
    "name": "ipython",
    "version": 3
   },
   "file_extension": ".py",
   "mimetype": "text/x-python",
   "name": "python",
   "nbconvert_exporter": "python",
   "pygments_lexer": "ipython3",
   "version": "3.9.5"
  }
 },
 "nbformat": 4,
 "nbformat_minor": 5
}
