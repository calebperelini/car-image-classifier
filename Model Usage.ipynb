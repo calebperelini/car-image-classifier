{
 "cells": [
  {
   "cell_type": "code",
   "execution_count": 32,
   "id": "f2e34b09",
   "metadata": {},
   "outputs": [],
   "source": [
    "import numpy as np\n",
    "import os\n",
    "import PIL\n",
    "import tensorflow as tf\n",
    "from PIL import Image\n",
    "\n",
    "from tensorflow import keras\n",
    "from tensorflow.keras import layers\n",
    "from tensorflow.keras.models import Sequential\n"
   ]
  },
  {
   "cell_type": "code",
   "execution_count": 33,
   "id": "5259d52c",
   "metadata": {},
   "outputs": [],
   "source": [
    "model = tf.keras.models.load_model('saved_model/car_model')"
   ]
  },
  {
   "cell_type": "code",
   "execution_count": 34,
   "id": "710abb61",
   "metadata": {},
   "outputs": [],
   "source": [
    "class_names = ['beige', 'black', 'blue', \n",
    "               'brown', 'gold', 'green', \n",
    "               'grey', 'orange', 'pink', \n",
    "               'purple', 'red', 'silver', \n",
    "               'tan', 'white', 'yellow'\n",
    "              ]"
   ]
  },
  {
   "cell_type": "code",
   "execution_count": 35,
   "id": "0dc0b32a",
   "metadata": {},
   "outputs": [],
   "source": [
    "def predict_image(tfmodel, file_path):\n",
    "    img_height = 180\n",
    "    img_width = 180\n",
    "    \n",
    "    img = tf.keras.utils.load_img(\n",
    "        file_path, target_size=(img_height, img_width)\n",
    "    )\n",
    "    \n",
    "    img_array = tf.keras.utils.img_to_array(img)\n",
    "    img_array = tf.expand_dims(img_array, 0)\n",
    "    \n",
    "    predictions = tfmodel.predict(img_array)\n",
    "    score = tf.nn.softmax(predictions[0])\n",
    "    print(\n",
    "    \"This car is most likely {} with a {:.2f} percent confidence.\"\n",
    "    .format(class_names[np.argmax(score)], 100 * np.max(score))\n",
    ")"
   ]
  },
  {
   "cell_type": "code",
   "execution_count": 36,
   "id": "476bc6b8",
   "metadata": {},
   "outputs": [
    {
     "name": "stdout",
     "output_type": "stream",
     "text": [
      "This car is most likely brown with a 98.82 percent confidence.\n"
     ]
    }
   ],
   "source": [
    "file_path = \"./images/test0.jpg\"\n",
    "predict_image(model, file_path)"
   ]
  }
 ],
 "metadata": {
  "kernelspec": {
   "display_name": "Python 3 (ipykernel)",
   "language": "python",
   "name": "python3"
  },
  "language_info": {
   "codemirror_mode": {
    "name": "ipython",
    "version": 3
   },
   "file_extension": ".py",
   "mimetype": "text/x-python",
   "name": "python",
   "nbconvert_exporter": "python",
   "pygments_lexer": "ipython3",
   "version": "3.9.5"
  }
 },
 "nbformat": 4,
 "nbformat_minor": 5
}
